{
 "cells": [
  {
   "cell_type": "markdown",
   "metadata": {},
   "source": [
    "![](https://user-images.githubusercontent.com/83436724/166116197-cbe1a8bc-e1df-4cac-ad5e-9f6cd9f0f43c.png)"
   ]
  },
  {
   "cell_type": "markdown",
   "metadata": {},
   "source": [
    "## Python: Fundamentos de programación y tipos de datos\n",
    "#### Fundamentos y manejo de tipos de datos con Python\n",
    "#### Autor: [Carlos Adrián Alarcón](https://linktr.ee/aladelca)\n",
    "\n",
    "En este notebook, aprenderemos a generar algunos algoritmos y programas simples para que realicen determinadas tareas. Para esto, haremos uso de estructuras de control, estructuras de datos, entre otras.\n"
   ]
  },
  {
   "cell_type": "markdown",
   "metadata": {},
   "source": [
    "#### Input\n",
    "\n",
    "Se puede interactuar con los usuarios para pedirles determinados datos. Eso lo podemos hacer con el comando `input`. Esto permite que los usuarios puedan ingresar valores y, a partir de eso, hacer determinadas operaciones. Veamos cómo funciona"
   ]
  },
  {
   "cell_type": "code",
   "execution_count": 1,
   "metadata": {},
   "outputs": [],
   "source": [
    "## Pedirle un dato al usuario\n",
    "\n",
    "a = input()"
   ]
  },
  {
   "cell_type": "markdown",
   "metadata": {},
   "source": [
    "También se puede agregar una etiqueta al momento de pedir los datos"
   ]
  },
  {
   "cell_type": "code",
   "execution_count": 2,
   "metadata": {},
   "outputs": [],
   "source": [
    "## Personalizar la etiqueta\n",
    "\n",
    "a = input('Ingresa un número: ')"
   ]
  },
  {
   "cell_type": "markdown",
   "metadata": {},
   "source": [
    "Un dato importante es que todos los datos ingresados a través del método `input` son de tipo `str` o texto. Si se quieren hacer operaciones matemáticas, se tiene que hacer una conversión previa. Podemos comprobar el tipo de datos haciendo uso del método `type`"
   ]
  },
  {
   "cell_type": "code",
   "execution_count": 4,
   "metadata": {},
   "outputs": [
    {
     "name": "stdout",
     "output_type": "stream",
     "text": [
      "1\n"
     ]
    },
    {
     "data": {
      "text/plain": [
       "str"
      ]
     },
     "execution_count": 4,
     "metadata": {},
     "output_type": "execute_result"
    }
   ],
   "source": [
    "a = input('Ingresa un número: ')\n",
    "print(a)\n",
    "type(a)"
   ]
  },
  {
   "cell_type": "markdown",
   "metadata": {},
   "source": [
    "#### Gestión de errores\n",
    "\n",
    "Generalmente, al momento de pedir datos a los usuarios, suelen haber errores. Para esos casos, una opción muy interesante es hacer uso de `try ... except`. Esta sentencia sirve para ejecutar determinado pedazo de código en caso haya algún error. Como siempre, debemos respetar la identación:\n",
    "\n",
    "<pre><code> try: \n",
    "    print(a)\n",
    "except:\n",
    "    print('Hubo un error')\n",
    "</code></pre>\n",
    "\n",
    "¡Practiquemos!"
   ]
  },
  {
   "cell_type": "code",
   "execution_count": 6,
   "metadata": {},
   "outputs": [
    {
     "name": "stdout",
     "output_type": "stream",
     "text": [
      "El valor ingresado fue 1e y no es un número\n"
     ]
    }
   ],
   "source": [
    "try:\n",
    "    a = input('Ingresa un número: ')\n",
    "    print(int(a))\n",
    "except:\n",
    "    print('El valor ingresado fue', a,'y no es un número')\n"
   ]
  },
  {
   "cell_type": "markdown",
   "metadata": {},
   "source": [
    "Existen diversos tipos de errores en Python. A continuación, nombraremos alguno de los más comunes:\n",
    "\n",
    "|<center>Error<center>|<center>Descripción<center>\n",
    "|:-----|:-----|\n",
    "|`AssertionError` | Error que se genera cuando el comando `assert` falla|\n",
    "|`AttributeError`| Error en la asignación de un atributo|\n",
    "|`ImportError`| Error que se genera cuando no se importa correctamente alguna libraría|\n",
    "|`IndexError`| Error producido cuando el índice de una secuencia está fuera del rango|\n",
    "|`KeyError`| Error que se genera cuando no se encuentra una llave en un diccionario|\n",
    "|`MemoryError`| Error cuando una operación excede la memoria disponible|\n",
    "|`NameError`| Error cuando se hace referencia a una variable no existente|\n",
    "|`OSError`| Error relacionado al sistema operativo|\n",
    "|`IndentationError`|Error cuando no se respeta la identación|\n",
    "|`ZeroDivisionError`| Error cuando hay una división por cero|\n",
    "\n",
    "El comando `try ... except` se puede utilizar para generar acciones ante determinado tipo de error. Veamos su implementación"
   ]
  },
  {
   "cell_type": "code",
   "execution_count": 11,
   "metadata": {},
   "outputs": [
    {
     "name": "stdout",
     "output_type": "stream",
     "text": [
      "El valor ingresado fue ab y no es un número\n"
     ]
    }
   ],
   "source": [
    "try:\n",
    "    a = input('Ingresa un número: ')\n",
    "    b = int(a)/0\n",
    "    print(b)\n",
    "except ZeroDivisionError:\n",
    "    print('No se puede dividir un número entre cero')\n",
    "except:\n",
    "    print('El valor ingresado fue', a,'y no es un número')\n"
   ]
  },
  {
   "cell_type": "code",
   "execution_count": 12,
   "metadata": {},
   "outputs": [
    {
     "name": "stdout",
     "output_type": "stream",
     "text": [
      "No se puede dividir un número entre cero\n"
     ]
    }
   ],
   "source": [
    "try:\n",
    "    a = input('Ingresa un número: ')\n",
    "    b = int(a)/0\n",
    "    print(b)\n",
    "except ZeroDivisionError:\n",
    "    print('No se puede dividir un número entre cero')\n",
    "except:\n",
    "    print('El valor ingresado fue', a,'y no es un número')"
   ]
  },
  {
   "cell_type": "markdown",
   "metadata": {},
   "source": [
    "También se puede utilizar el comando `try ... except` junto a la sentencia `else` para ejecutar bloques de código cuando no hay ningún error"
   ]
  },
  {
   "cell_type": "code",
   "execution_count": 13,
   "metadata": {},
   "outputs": [
    {
     "name": "stdout",
     "output_type": "stream",
     "text": [
      "Hola mundo\n",
      "Todo se ejecutó correctamente\n"
     ]
    }
   ],
   "source": [
    "try:\n",
    "    print('Hola mundo')\n",
    "except:\n",
    "    print('Algo salió mal')\n",
    "else:\n",
    "    print('Todo se ejecutó correctamente')"
   ]
  },
  {
   "cell_type": "markdown",
   "metadata": {},
   "source": [
    "De la misma manera, también se puede utilizar junto a `try ... except` la sentencia `finally` para ejecutar un bloque de código sin importar si hay o no error"
   ]
  },
  {
   "cell_type": "code",
   "execution_count": 14,
   "metadata": {},
   "outputs": [
    {
     "name": "stdout",
     "output_type": "stream",
     "text": [
      "Variable no definida\n",
      "Se terminó la validación\n"
     ]
    }
   ],
   "source": [
    "try:\n",
    "    print(variable_no_definida)\n",
    "except:\n",
    "    print('Variable no definida')\n",
    "finally:\n",
    "    print('Se terminó la validación')"
   ]
  },
  {
   "cell_type": "markdown",
   "metadata": {},
   "source": [
    "Otra forma de personalizar los errores es haciendo uso de la sentencia `raise`. Esto nos permite generar un error en base a una condición"
   ]
  },
  {
   "cell_type": "code",
   "execution_count": 17,
   "metadata": {},
   "outputs": [
    {
     "ename": "TypeError",
     "evalue": "Solo se permiten números",
     "output_type": "error",
     "traceback": [
      "\u001b[1;31m---------------------------------------------------------------------------\u001b[0m",
      "\u001b[1;31mTypeError\u001b[0m                                 Traceback (most recent call last)",
      "\u001b[1;32mg:\\My Drive\\Contenido\\python_basics\\4. Fundamentos de programación.ipynb Cell 18'\u001b[0m in \u001b[0;36m<cell line: 3>\u001b[1;34m()\u001b[0m\n\u001b[0;32m      <a href='vscode-notebook-cell:/g%3A/My%20Drive/Contenido/python_basics/4.%20Fundamentos%20de%20programaci%C3%B3n.ipynb#ch0000020?line=0'>1</a>\u001b[0m x \u001b[39m=\u001b[39m \u001b[39m\"\u001b[39m\u001b[39mhola\u001b[39m\u001b[39m\"\u001b[39m\n\u001b[0;32m      <a href='vscode-notebook-cell:/g%3A/My%20Drive/Contenido/python_basics/4.%20Fundamentos%20de%20programaci%C3%B3n.ipynb#ch0000020?line=2'>3</a>\u001b[0m \u001b[39mif\u001b[39;00m \u001b[39mnot\u001b[39;00m \u001b[39mtype\u001b[39m(x) \u001b[39mis\u001b[39;00m \u001b[39mint\u001b[39m:\n\u001b[1;32m----> <a href='vscode-notebook-cell:/g%3A/My%20Drive/Contenido/python_basics/4.%20Fundamentos%20de%20programaci%C3%B3n.ipynb#ch0000020?line=3'>4</a>\u001b[0m   \u001b[39mraise\u001b[39;00m \u001b[39mTypeError\u001b[39;00m(\u001b[39m\"\u001b[39m\u001b[39mSolo se permiten números\u001b[39m\u001b[39m\"\u001b[39m)\n",
      "\u001b[1;31mTypeError\u001b[0m: Solo se permiten números"
     ]
    }
   ],
   "source": [
    "x = \"hola\"\n",
    "\n",
    "if not type(x) is int:\n",
    "  raise TypeError(\"Solo se permiten números\")"
   ]
  },
  {
   "cell_type": "markdown",
   "metadata": {},
   "source": [
    "#### Manejo de textos\n",
    "\n",
    "Una parte importante al momento de generar algunos programas es el formato de las cadenas o textos. Para controlar su inclusión, podemos utilizar el comando `format()` junto a las llaves `{}`.\n",
    "\n",
    "También podemos combinar los datos ingresados por los usuarios a través de `input` con cadenas de texto. Para eso, también utilizaremos las llaves `{}`.\n",
    "\n",
    "Veamos algunos ejemplos:"
   ]
  },
  {
   "cell_type": "code",
   "execution_count": 23,
   "metadata": {},
   "outputs": [
    {
     "name": "stdout",
     "output_type": "stream",
     "text": [
      "El mejor lenguaje de programación es python\n"
     ]
    }
   ],
   "source": [
    "## Introducir el texto en una cadena de texto\n",
    "\n",
    "lenguaje = 'python'\n",
    "texto = 'El mejor lenguaje de programación es {}'\n",
    "\n",
    "print(texto.format(lenguaje))"
   ]
  },
  {
   "cell_type": "code",
   "execution_count": 24,
   "metadata": {},
   "outputs": [
    {
     "name": "stdout",
     "output_type": "stream",
     "text": [
      "Estudiaré python por 10 horas\n"
     ]
    }
   ],
   "source": [
    "## Haciendo uso de múltiples valores\n",
    "\n",
    "horas = 10\n",
    "lenguaje = 'python'\n",
    "texto = 'Estudiaré {} por {} horas'\n",
    "\n",
    "print(texto.format(lenguaje, horas))\n",
    "\n"
   ]
  },
  {
   "cell_type": "markdown",
   "metadata": {},
   "source": [
    "En caso de que se repitan los valores dentro de un texto, podemos utilizar índices con la estructura `{i}`, donde `i` vendría a ser el índice (un número entero)."
   ]
  },
  {
   "cell_type": "code",
   "execution_count": 29,
   "metadata": {},
   "outputs": [
    {
     "name": "stdout",
     "output_type": "stream",
     "text": [
      "Estudiaré python por 10 horas. python es el mejor lenguaje de programación\n"
     ]
    }
   ],
   "source": [
    "## Valores repetidos\n",
    "\n",
    "\n",
    "horas = 10\n",
    "lenguaje = 'python'\n",
    "texto = 'Estudiaré {0} por {1} horas. {0} es el mejor lenguaje de programación'\n",
    "\n",
    "print(texto.format(lenguaje, horas))"
   ]
  },
  {
   "cell_type": "markdown",
   "metadata": {},
   "source": [
    "La indexación también se puede dar haciendo uso de nombres dentro de las llaves `{}` de la siguiente manera `{nombre del índice}`."
   ]
  },
  {
   "cell_type": "code",
   "execution_count": 30,
   "metadata": {},
   "outputs": [
    {
     "name": "stdout",
     "output_type": "stream",
     "text": [
      "Estudiaré Python por 10 horas. Python es el mejor lenguaje de programación\n"
     ]
    }
   ],
   "source": [
    "## Nombre del índice\n",
    "\n",
    "\n",
    "texto = 'Estudiaré {lenguaje} por {duracion} horas. {lenguaje} es el mejor lenguaje de programación'\n",
    "\n",
    "print(texto.format(lenguaje = 'Python', duracion = 10))"
   ]
  },
  {
   "cell_type": "markdown",
   "metadata": {},
   "source": [
    "Dentro de las llaves `{}` también se pueden incluir formatos de número. En la siguiente tabla podrás encontrar los principales formatos\n",
    "\n",
    "|<center>Formato<center>|<center>Descripción<center>\n",
    "|:-----|:-----|\n",
    "|`:<` | Alinea el resultado a la izquierda|\n",
    "|`:>`| Alinea el resultado a la derecha|\n",
    "|`:^`| Alinea el resultado al centro|\n",
    "|`:+`| Agrega un signo `+` para indicar si el resultado es positivo o negativo|\n",
    "|`:-`| Agrega el signo `-` solo para los valores negativos|\n",
    "|`:,`| Usa coma `,` como separador de miles|\n",
    "|`:_`| Usa espacio como separador de miles|\n",
    "|`:d`| Formato decimal|\n",
    "|`:e`| Formato en notación científica con `e` minúscula|\n",
    "|`:E`| Formato en notación científica con `E` mayúscula|\n",
    "|`:f`| Número fijo de decimales|\n",
    "|`:%`| Formato porcentual|\n"
   ]
  },
  {
   "cell_type": "code",
   "execution_count": 44,
   "metadata": {},
   "outputs": [
    {
     "name": "stdout",
     "output_type": "stream",
     "text": [
      "Llevo avanzado el 1000.000000% del curso de Python\n"
     ]
    }
   ],
   "source": [
    "## Formatos de número\n",
    "\n",
    "porcentaje = 10 \n",
    "lenguaje = 'Python'\n",
    "texto = 'Llevo avanzado el {:%} del curso de {}'\n",
    "\n",
    "print(texto.format(porcentaje, lenguaje))\n",
    "\n"
   ]
  },
  {
   "cell_type": "code",
   "execution_count": 50,
   "metadata": {},
   "outputs": [
    {
     "name": "stdout",
     "output_type": "stream",
     "text": [
      "Llevo avanzado el 10.000 del curso de Python\n"
     ]
    }
   ],
   "source": [
    "## Formatos de número\n",
    "\n",
    "porcentaje = 10 \n",
    "lenguaje = 'Python'\n",
    "texto = 'Llevo avanzado el {:.3f} del curso de {}'\n",
    "\n",
    "print(texto.format(porcentaje, lenguaje))\n"
   ]
  },
  {
   "cell_type": "markdown",
   "metadata": {},
   "source": [
    "Existen también diversas funciones para manipular los textos haciendo uso de diversos métodos. A continuación, se presentan algunos de los más comunes:\n",
    "\n",
    "\n",
    "|<center>Método<center>|<center>Descripción<center>\n",
    "|:-----|:-----|\n",
    "|`capitalize()` | Hace que la primera letra sea mayúscula|\n",
    "|`upper()`| Convierte todo el texto a mayúsculas|\n",
    "|`lower()`| Convierte todo el texto a minúsculas|\n",
    "|`count()`| Devuelve el número de veces que un determinado valor se repite en una cadena|\n",
    "|`endswith()`| Determina si una cadena termina con determinado texto|\n",
    "|`find()`| Retorna la ubicación de determinado texto en otro|\n",
    "|`partition()`| Separa un texto en tuplas|\n",
    "|`replace()`| Reemplaza determinado valor por otro en un texto|\n",
    "|`split()`| Separa todas las palabras de un texto y las coloca en una lista|\n",
    "|`title()`| Convierte el primer caracter de cada palabra de un texto en mayúscula|\n",
    "\n",
    "Exploremos cómo funcionan\n",
    "\n"
   ]
  },
  {
   "cell_type": "code",
   "execution_count": 57,
   "metadata": {},
   "outputs": [
    {
     "name": "stdout",
     "output_type": "stream",
     "text": [
      "HOLA MUNDO\n",
      "Hola mundo\n",
      "Hola Mundo\n"
     ]
    }
   ],
   "source": [
    "## Mayúsculas y minúsculas\n",
    "\n",
    "texto = 'hola mundo'\n",
    "print(texto.upper())\n",
    "print(texto.capitalize())\n",
    "print(texto.title())"
   ]
  },
  {
   "cell_type": "code",
   "execution_count": 58,
   "metadata": {},
   "outputs": [
    {
     "data": {
      "text/plain": [
       "['hola', 'mundo']"
      ]
     },
     "execution_count": 58,
     "metadata": {},
     "output_type": "execute_result"
    }
   ],
   "source": [
    "## Todos los caracteres en listas\n",
    "\n",
    "texto = 'hola mundo'\n",
    "texto.split()"
   ]
  },
  {
   "cell_type": "code",
   "execution_count": 60,
   "metadata": {},
   "outputs": [
    {
     "data": {
      "text/plain": [
       "'adios mundo'"
      ]
     },
     "execution_count": 60,
     "metadata": {},
     "output_type": "execute_result"
    }
   ],
   "source": [
    "## Reemplazar \n",
    "\n",
    "texto = 'hola mundo'\n",
    "texto.replace('hola','adios')"
   ]
  },
  {
   "cell_type": "code",
   "execution_count": 61,
   "metadata": {},
   "outputs": [
    {
     "data": {
      "text/plain": [
       "31"
      ]
     },
     "execution_count": 61,
     "metadata": {},
     "output_type": "execute_result"
    }
   ],
   "source": [
    "## Encontrar un texto\n",
    "\n",
    "texto = 'python es el mejor lenguaje de programación'\n",
    "buscar = 'programación'\n",
    "texto.find(buscar)\n",
    "\n"
   ]
  },
  {
   "cell_type": "code",
   "execution_count": 62,
   "metadata": {},
   "outputs": [
    {
     "data": {
      "text/plain": [
       "3"
      ]
     },
     "execution_count": 62,
     "metadata": {},
     "output_type": "execute_result"
    }
   ],
   "source": [
    "## Contar las veces que se repite un texto en otro\n",
    "\n",
    "texto = 'Las vocales son a,e,i,o,u'\n",
    "contar = 'a'\n",
    "\n",
    "texto.count(contar)"
   ]
  },
  {
   "cell_type": "markdown",
   "metadata": {},
   "source": [
    "#### Manejo de fechas\n",
    "\n",
    "Un tipo de dato muy importante al momento de analizar datos es el dato tipo fecha. A continuación, veremos cómo manejarlos haciendo uso de la librería `datetime`. Para importar una librería, simplemente tenemos que seguir la siguiente estructura:\n",
    "\n",
    "<pre><code> import nombre_libreria as apodo libreria\n",
    "    \n",
    "</code></pre>\n",
    "\n",
    "Se puede obviar el apodo de la librería\n",
    "\n",
    "<pre><code> import nombre_libreria\n",
    "    \n",
    "</code></pre>\n",
    "\n",
    "¡Vamos a practicar!"
   ]
  },
  {
   "cell_type": "code",
   "execution_count": 63,
   "metadata": {},
   "outputs": [],
   "source": [
    "import datetime"
   ]
  },
  {
   "cell_type": "markdown",
   "metadata": {},
   "source": [
    "Haciendo uso de la librería `datetime`, se puede obtener datos como la fecha actual, o también se pueden generar datos tipo fecha. Veamos algunos ejemplos"
   ]
  },
  {
   "cell_type": "code",
   "execution_count": 64,
   "metadata": {},
   "outputs": [
    {
     "name": "stdout",
     "output_type": "stream",
     "text": [
      "2022-06-03 01:26:50.985299\n"
     ]
    }
   ],
   "source": [
    "## Obtener la fecha actual\n",
    "\n",
    "hoy = datetime.datetime.now()\n",
    "print(hoy)"
   ]
  },
  {
   "cell_type": "code",
   "execution_count": 67,
   "metadata": {},
   "outputs": [
    {
     "name": "stdout",
     "output_type": "stream",
     "text": [
      "2022-06-16 00:00:00\n"
     ]
    }
   ],
   "source": [
    "## Generar un dato tipo fecha\n",
    "\n",
    "cumple = datetime.datetime(2022,6,16)\n",
    "print(cumple)"
   ]
  },
  {
   "cell_type": "markdown",
   "metadata": {},
   "source": [
    "Podemos ver con el comando `type` el tipo de dato con el que estamos trabajando"
   ]
  },
  {
   "cell_type": "code",
   "execution_count": 65,
   "metadata": {},
   "outputs": [
    {
     "name": "stdout",
     "output_type": "stream",
     "text": [
      "<class 'datetime.datetime'>\n"
     ]
    }
   ],
   "source": [
    "\n",
    "hoy = datetime.datetime.now()\n",
    "print(type(hoy))"
   ]
  },
  {
   "cell_type": "markdown",
   "metadata": {},
   "source": [
    "El método `strftime()` permite convertir datos tipo fecha en texto con formato. Este formato puede incluir años, días, meses, horas, entre otros. A continuación, se muestran algunas de las opciones que se tienen para generar este formato:\n",
    "\n",
    "|<center>Formato<center>|<center>Descripción<center>\n",
    "|:-----|:-----|\n",
    "|`%a` | Versión corta del día de semana (mon para lunes)|\n",
    "|`%A`| Versión larga del día de semana (Monday para lunes|\n",
    "|`%w`| Día de semana como número, considerando 0 como domingo|\n",
    "|`%d`| Día del mes|\n",
    "|`%m`| Mes como número|\n",
    "|`%B`| Versión larga del mes (June para junio)|\n",
    "|`%b`| Versión corta del mes (jun para junio)|\n",
    "|`%y`| Año resumido (22 para el 2022)|\n",
    "|`%Y`| Versión larga del año|\n",
    "|`%H`| Hora de 0-23|\n",
    "|`%I`| Hora de 0-12|\n",
    "|`%p`| AM - PM|\n",
    "|`%M`| Minuto|\n",
    "|`%S`| Segundo|\n",
    "|`%Z`| Zona horaria|\n",
    "|`%z`| Diferencia horaria|\n",
    "\n",
    "¡Practiquemos!"
   ]
  },
  {
   "cell_type": "code",
   "execution_count": 80,
   "metadata": {},
   "outputs": [
    {
     "name": "stdout",
     "output_type": "stream",
     "text": [
      "2022-06-03 01:37:54.079302\n",
      "Fri\n",
      "Friday\n",
      "June\n",
      "5\n",
      "06\n",
      "2022\n",
      "\n",
      "\n"
     ]
    }
   ],
   "source": [
    "hoy = datetime.datetime.now()\n",
    "print(hoy)\n",
    "print(hoy.strftime('%a'))\n",
    "print(hoy.strftime('%A'))\n",
    "print(hoy.strftime('%B'))\n",
    "print(hoy.strftime('%w'))\n",
    "print(hoy.strftime('%m'))\n",
    "print(hoy.strftime('%Y'))\n"
   ]
  },
  {
   "cell_type": "markdown",
   "metadata": {},
   "source": [
    "También se puede generar un formato combinado"
   ]
  },
  {
   "cell_type": "code",
   "execution_count": 83,
   "metadata": {},
   "outputs": [
    {
     "name": "stdout",
     "output_type": "stream",
     "text": [
      "2022-06-03 01:39:49.603860\n",
      "Friday, 03 de June del 2022\n",
      "2022Jun03\n"
     ]
    }
   ],
   "source": [
    "## Formato combinado\n",
    "\n",
    "hoy = datetime.datetime.now()\n",
    "print(hoy)\n",
    "print(hoy.strftime('%A, %d de %B del %Y'))\n",
    "print(hoy.strftime('%Y%b%d'))\n",
    "\n",
    "hoy.strptime"
   ]
  },
  {
   "cell_type": "markdown",
   "metadata": {},
   "source": [
    "Con el método `strptime` se convierte un texto en una fecha, es decir, el proceso inverso a `strftime`."
   ]
  },
  {
   "cell_type": "code",
   "execution_count": 88,
   "metadata": {},
   "outputs": [
    {
     "name": "stdout",
     "output_type": "stream",
     "text": [
      "2022-06-16 00:00:00\n"
     ]
    },
    {
     "data": {
      "text/plain": [
       "datetime.datetime"
      ]
     },
     "execution_count": 88,
     "metadata": {},
     "output_type": "execute_result"
    }
   ],
   "source": [
    "texto = '2022-06-16'\n",
    "fecha = datetime.datetime.strptime(texto, '%Y-%m-%d')\n",
    "print(fecha)\n",
    "type(fecha)"
   ]
  }
 ],
 "metadata": {
  "interpreter": {
   "hash": "a1c127b98b004ffb10bdf623089e5daada6124a81f5a9b9e6b62024169afff23"
  },
  "kernelspec": {
   "display_name": "Python 3.10.4 64-bit (system)",
   "language": "python",
   "name": "python3"
  },
  "language_info": {
   "codemirror_mode": {
    "name": "ipython",
    "version": 3
   },
   "file_extension": ".py",
   "mimetype": "text/x-python",
   "name": "python",
   "nbconvert_exporter": "python",
   "pygments_lexer": "ipython3",
   "version": "3.10.4"
  },
  "orig_nbformat": 4
 },
 "nbformat": 4,
 "nbformat_minor": 2
}
