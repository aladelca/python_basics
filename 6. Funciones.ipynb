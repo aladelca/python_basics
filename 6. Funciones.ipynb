{
 "cells": [
  {
   "cell_type": "markdown",
   "metadata": {},
   "source": [
    "![](https://user-images.githubusercontent.com/83436724/166116197-cbe1a8bc-e1df-4cac-ad5e-9f6cd9f0f43c.png)"
   ]
  },
  {
   "cell_type": "markdown",
   "metadata": {},
   "source": [
    "## Python: Funciones\n",
    "#### Crear funciones y automatizar procesos\n",
    "#### Autor: [Carlos Adrián Alarcón](https://linktr.ee/aladelca)\n",
    "\n",
    "En este notebook, aprenderemos a crear funciones con el fin de automatizar tareas. Estas funciones permiten ejecutar determinadas tareas solo cuando son llamadas. La función se programa para que ejecute líneas de código y retorne un resultado. \n",
    "\n",
    "Dentro de las funciones se pueden combinar diversas estructuras de control, hacer uso de varias estructuras de datos y retornar valores distintos. También se pueden ejecutar funciones dentro de otra función. Como siempre, se tiene que respetar la identación.\n",
    "\n",
    "Vamos a ver algunos ejemplos:\n",
    "\n"
   ]
  },
  {
   "cell_type": "markdown",
   "metadata": {},
   "source": [
    "#### Crear una función para calcular el promedio\n",
    "\n",
    "Vamos a generar una función para calcular el promedio de varios números. Como sabemos, el promedio es la suma de todos los números dividida entre el total de números. Para definir la función, se siguiente el siguiente formato:\n",
    "\n",
    "\n",
    "<pre><code> \n",
    "def nombre_funcion(atributos de entrada): \n",
    "    código\n",
    "    return salida\n",
    "\n",
    "</code></pre>\n"
   ]
  },
  {
   "cell_type": "code",
   "execution_count": 4,
   "metadata": {},
   "outputs": [],
   "source": [
    "## Calcular el promedio\n",
    "\n",
    "def calculo_promedio(lista_numeros):\n",
    "    total_suma = sum(lista_numeros)\n",
    "    total_numeros = len(lista_numeros)       \n",
    "    promedio = total_suma / total_numeros\n",
    "    return promedio\n"
   ]
  },
  {
   "cell_type": "markdown",
   "metadata": {},
   "source": [
    "Pongamos a prueba a la función:"
   ]
  },
  {
   "cell_type": "code",
   "execution_count": 5,
   "metadata": {},
   "outputs": [
    {
     "data": {
      "text/plain": [
       "6.875"
      ]
     },
     "execution_count": 5,
     "metadata": {},
     "output_type": "execute_result"
    }
   ],
   "source": [
    "lista = [1,3,4,5,7,7,8,20]\n",
    "\n",
    "calculo_promedio(lista)"
   ]
  },
  {
   "cell_type": "markdown",
   "metadata": {},
   "source": [
    "Se dieron cuenta de que, a pesar de que la función ha sido creada con la variable ``lista_numeros``, se ha ejecutado correctamente con una lista llamada ``lista``. Esto sucede porque todas las variables que se definen en una función solamente existen dentro de la función. Veamos un ejemplo\n"
   ]
  },
  {
   "cell_type": "code",
   "execution_count": 6,
   "metadata": {},
   "outputs": [
    {
     "ename": "NameError",
     "evalue": "name 'a' is not defined",
     "output_type": "error",
     "traceback": [
      "\u001b[1;31m---------------------------------------------------------------------------\u001b[0m",
      "\u001b[1;31mNameError\u001b[0m                                 Traceback (most recent call last)",
      "\u001b[1;32mg:\\My Drive\\Contenido\\python_basics\\6. Funciones.ipynb Cell 8'\u001b[0m in \u001b[0;36m<cell line: 5>\u001b[1;34m()\u001b[0m\n\u001b[0;32m      <a href='vscode-notebook-cell:/g%3A/My%20Drive/Contenido/python_basics/6.%20Funciones.ipynb#ch0000015?line=1'>2</a>\u001b[0m     suma \u001b[39m=\u001b[39m a \u001b[39m+\u001b[39m b \n\u001b[0;32m      <a href='vscode-notebook-cell:/g%3A/My%20Drive/Contenido/python_basics/6.%20Funciones.ipynb#ch0000015?line=2'>3</a>\u001b[0m     \u001b[39mreturn\u001b[39;00m suma\n\u001b[1;32m----> <a href='vscode-notebook-cell:/g%3A/My%20Drive/Contenido/python_basics/6.%20Funciones.ipynb#ch0000015?line=4'>5</a>\u001b[0m \u001b[39mprint\u001b[39m(a)\n",
      "\u001b[1;31mNameError\u001b[0m: name 'a' is not defined"
     ]
    }
   ],
   "source": [
    "def suma_numeros(a,b):\n",
    "    suma = a + b \n",
    "    return suma\n",
    "\n",
    "print(a)"
   ]
  },
  {
   "cell_type": "markdown",
   "metadata": {},
   "source": [
    "El compilador nos arroja un error debido a que, aunque la variable a ha sido usada para construir la función ``suma_numeros``, esta no existe y no ha sido definida anteriormente en este notebook. Por ese motivo, al momento de ejecutar el comando ``print``, el resultado es un error indicando que la variable ``a`` no está definida.\n",
    "\n",
    "Vamos a crear otra función"
   ]
  },
  {
   "cell_type": "markdown",
   "metadata": {},
   "source": [
    "#### Mediana\n",
    "\n",
    "Vamos a crear una función para calcular la mediana. \n",
    "\n",
    "\n",
    "<p align=\"center\">\n",
    "  <img width=\"400\" src=\"https://user-images.githubusercontent.com/83436724/174006840-ea1f2aac-e967-476f-96ba-4bdd49f7830b.svg\" alt=\"Material Bread logo\">\n",
    "</p>\n",
    "\n",
    "Según la fórmula, existen dos casuísticas: si es que el número total de datos es para o impar. Esto lo resolveremos fácilmente con la claúsula ``if``. Recordemos que para calcular la mediana, es necesario que los datos estén ordenados."
   ]
  },
  {
   "cell_type": "code",
   "execution_count": 35,
   "metadata": {},
   "outputs": [
    {
     "data": {
      "text/plain": [
       "7.0"
      ]
     },
     "execution_count": 35,
     "metadata": {},
     "output_type": "execute_result"
    }
   ],
   "source": [
    "## Mediana\n",
    "lista_numeros = [1,4,10,20,1,23]\n",
    "\n",
    "def calcular_mediana(lista_numeros):\n",
    "    lista_numeros.sort()\n",
    "    largo_lista = len(lista_numeros)\n",
    "    if largo_lista%2 == 0:\n",
    "        inferior = lista_numeros[int(largo_lista/2 )]\n",
    "        superior = lista_numeros[int(largo_lista/2) - 1]\n",
    "        mediana = (inferior + superior)/2\n",
    "    elif largo_lista%2 != 0:\n",
    "        indice = int(len(lista_numeros)/2)\n",
    "        mediana = lista_numeros[indice]\n",
    "    return mediana\n",
    "\n",
    "\n",
    "calcular_mediana(lista_numeros)"
   ]
  },
  {
   "cell_type": "markdown",
   "metadata": {},
   "source": [
    "#### Combinatorias\n",
    "\n",
    "Las combinatorias funcionan de manera similar a las permutaciones, sin embargo, para este proceso, es necesario eliminar aquellos duplicados. Es decir, en las combinatorias, el órden de las agrupaciones no es relevante. La fórmula de las combinatorias es la siguiente:\n",
    "\n",
    "<p align=\"center\">\n",
    "  <img width=\"200\" src=\"https://user-images.githubusercontent.com/83436724/173152923-50408dc0-c216-4b31-bc82-cd565cdcec02.svg\" alt=\"Material Bread logo\">\n",
    "</p>\n",
    "\n",
    "¡Hagamos una función que permita hacer combinatorias!\n",
    "\n",
    "\n"
   ]
  },
  {
   "cell_type": "code",
   "execution_count": 38,
   "metadata": {},
   "outputs": [
    {
     "data": {
      "text/plain": [
       "126.0"
      ]
     },
     "execution_count": 38,
     "metadata": {},
     "output_type": "execute_result"
    }
   ],
   "source": [
    "## Combinatorias\n",
    "\n",
    "conjunto_datos = [10,40,50,20,60,90,100,1000,200]\n",
    "\n",
    "def combinatoria(conjunto_datos):\n",
    "    total = len(conjunto_datos)\n",
    "    elementos = 4\n",
    "\n",
    "    total_numerador = 1\n",
    "    total_denominador_uno = 1\n",
    "    total_denominador_dos = 1\n",
    "\n",
    "    for i in range(0,total):\n",
    "        numero = i + 1\n",
    "        total_numerador = total_numerador * numero\n",
    "    for a in range(0,total-elementos):\n",
    "        numero_d = a + 1\n",
    "        total_denominador_uno = total_denominador_uno * numero_d\n",
    "    for b in range(0,elementos):\n",
    "        numero_a = b + 1\n",
    "        total_denominador_dos = total_denominador_dos * numero_a\n",
    "\n",
    "    resultado = total_numerador/(total_denominador_uno * total_denominador_dos)\n",
    "    return resultado\n",
    "\n",
    "combinatoria(conjunto_datos)"
   ]
  },
  {
   "cell_type": "markdown",
   "metadata": {},
   "source": [
    "#### Eliminar duplicados de una lista\n",
    "\n",
    "En este ejercicio, lo que se va a realizar es identificar los valores únicos en una lista. \n",
    "\n",
    "```lista_general = [1,2,2,2,3,3,4,5,5,6]```\n",
    "\n",
    "Resultado:\n",
    "\n",
    "```\n",
    "unicos = [1,2,3,4,5,6]\n",
    "\n",
    "```\n",
    "\n",
    "Hagamos una función para eliminar los duplicados\n"
   ]
  },
  {
   "cell_type": "code",
   "execution_count": 43,
   "metadata": {},
   "outputs": [
    {
     "data": {
      "text/plain": [
       "[-1, 1, 2, 3, 4, 5, 6]"
      ]
     },
     "execution_count": 43,
     "metadata": {},
     "output_type": "execute_result"
    }
   ],
   "source": [
    "# Eliminar duplicados\n",
    "\n",
    "lista_general = [1,2,2,2,3,3,4,5,5,6,-1,-1,-1]\n",
    "\n",
    "def hallar_unicos(lista):\n",
    "    unicos = []    \n",
    "    for x in lista:\n",
    "        if x not in unicos:\n",
    "            unicos.append(x)\n",
    "    unicos.sort()\n",
    "    return unicos\n",
    "\n",
    "hallar_unicos(lista_general)"
   ]
  },
  {
   "cell_type": "markdown",
   "metadata": {},
   "source": [
    "#### Funciones Lambda\n",
    "\n",
    "Las funciones ``lambda`` son funciones anóminas que permiten ejecutar operaciones rápidas. Se pueden definir varias entradas pero solamente una salida.\n",
    "\n",
    "Dentro de las ventajas que tiene usar funciones ``lambda`` se tienen las siguientes:\n",
    "\n",
    "* Puedes combinarlas con funciones ya creadas para hacerlas más potentes\n",
    "* Permiten ejecutar operaciones repetitivas de manera más rápida\n",
    "* Pueden ser usadas cuando se requieren cálculos rápidos en un corto periodo de tiempo\n",
    "\n",
    "Veamos algunos ejemplos:"
   ]
  },
  {
   "cell_type": "markdown",
   "metadata": {},
   "source": [
    "Vamos a crear una función que sume 20 a algún número"
   ]
  },
  {
   "cell_type": "code",
   "execution_count": 44,
   "metadata": {},
   "outputs": [
    {
     "name": "stdout",
     "output_type": "stream",
     "text": [
      "25\n"
     ]
    }
   ],
   "source": [
    "# Funciones lambda\n",
    "\n",
    "x = lambda a: a + 20\n",
    "\n",
    "print(x(5))"
   ]
  },
  {
   "cell_type": "markdown",
   "metadata": {},
   "source": [
    "De la misma manera, vamos a generar una función que permita calcular el cubo de un número"
   ]
  },
  {
   "cell_type": "code",
   "execution_count": 47,
   "metadata": {},
   "outputs": [
    {
     "name": "stdout",
     "output_type": "stream",
     "text": [
      "8\n"
     ]
    }
   ],
   "source": [
    "# Calcular el cubo de un número\n",
    "\n",
    "cubo = lambda a: a**3\n",
    "\n",
    "print(cubo(2))"
   ]
  },
  {
   "cell_type": "markdown",
   "metadata": {},
   "source": [
    "Ahora crearemos una función ``lambda`` con dos o más entradas"
   ]
  },
  {
   "cell_type": "code",
   "execution_count": 48,
   "metadata": {},
   "outputs": [
    {
     "name": "stdout",
     "output_type": "stream",
     "text": [
      "31\n"
     ]
    }
   ],
   "source": [
    "suma = lambda a, b: a + b\n",
    "\n",
    "print(suma(1,30))"
   ]
  },
  {
   "cell_type": "code",
   "execution_count": 51,
   "metadata": {},
   "outputs": [
    {
     "name": "stdout",
     "output_type": "stream",
     "text": [
      "7.5\n"
     ]
    }
   ],
   "source": [
    "calculo = lambda a,b,c: (a/b)*c\n",
    "\n",
    "print(calculo(3,4,10))"
   ]
  },
  {
   "cell_type": "markdown",
   "metadata": {},
   "source": [
    "Finalmente, usaremos una función ``lambda`` dentro de otra función"
   ]
  },
  {
   "cell_type": "code",
   "execution_count": 53,
   "metadata": {},
   "outputs": [
    {
     "data": {
      "text/plain": [
       "20"
      ]
     },
     "execution_count": 53,
     "metadata": {},
     "output_type": "execute_result"
    }
   ],
   "source": [
    "# Duplicar un número\n",
    "\n",
    "def funcion(n):\n",
    "    return lambda a: a * n\n",
    "\n",
    "duplicar = funcion(2)\n",
    "\n",
    "duplicar(10)"
   ]
  }
 ],
 "metadata": {
  "kernelspec": {
   "display_name": "Python 3.10.4 64-bit (system)",
   "language": "python",
   "name": "python3"
  },
  "language_info": {
   "codemirror_mode": {
    "name": "ipython",
    "version": 3
   },
   "file_extension": ".py",
   "mimetype": "text/x-python",
   "name": "python",
   "nbconvert_exporter": "python",
   "pygments_lexer": "ipython3",
   "version": "3.10.4"
  },
  "orig_nbformat": 4,
  "vscode": {
   "interpreter": {
    "hash": "a1c127b98b004ffb10bdf623089e5daada6124a81f5a9b9e6b62024169afff23"
   }
  }
 },
 "nbformat": 4,
 "nbformat_minor": 2
}
