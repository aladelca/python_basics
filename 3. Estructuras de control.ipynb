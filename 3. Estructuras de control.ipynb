{
 "cells": [
  {
   "cell_type": "markdown",
   "metadata": {},
   "source": [
    "![](https://user-images.githubusercontent.com/83436724/166116197-cbe1a8bc-e1df-4cac-ad5e-9f6cd9f0f43c.png)"
   ]
  },
  {
   "cell_type": "markdown",
   "metadata": {},
   "source": [
    "## Python: Estructura de control\n",
    "#### Principales estructuras de control en Python\n",
    "#### Autor: [Carlos Adrián Alarcón](https://linktr.ee/aladelca)\n",
    "\n",
    "En este notebook, aprenderemos a utilizar las principales estructuras de control y ciclos nativos de Python. Estas estructuras nos servirán para automatizar algunas tareas, además de permitirnos realizar limpieza de datos, extracción de información, entre otros. \n",
    "\n",
    "En Python tenemos tres estructuras de control principales:\n",
    "\n",
    "* ``if``\n",
    "* ``for``\n",
    "* ``while``\n",
    "\n",
    "Veamos y analicemos cada una de estas"
   ]
  },
  {
   "cell_type": "markdown",
   "metadata": {},
   "source": [
    "#### Estructura `if`:\n",
    "\n",
    "La estructura `if` sirve para ejecutar líneas de código cuando se cumple determina condición establecida en la claúsula. La estructura `if` también es conocida como una estructura condicional. La identación es fundamental al momento de escribir las estructuras de control. La identación correcta es la siguiente:\n",
    "\n",
    "<pre><code> if a == 3:\n",
    "    print(a)\n",
    "</code></pre>\n",
    "\n",
    "Veamos algunos ejemplos"
   ]
  },
  {
   "cell_type": "code",
   "execution_count": 28,
   "metadata": {},
   "outputs": [
    {
     "name": "stdout",
     "output_type": "stream",
     "text": [
      "Las dos variables son iguales\n"
     ]
    }
   ],
   "source": [
    "## Ejemplo de if\n",
    "\n",
    "a = 4\n",
    "b = 4\n",
    "\n",
    "if a == b:\n",
    "    print('Las dos variables son iguales')"
   ]
  },
  {
   "cell_type": "markdown",
   "metadata": {},
   "source": [
    "Se puede complementar la estructura `if` con la estructura `elif`, que indica que, en caso no se haya cumplido la primera condición, se valide la condición indicada en la estructura `elif`. Como siempre, se tiene que respetar la identación, tal como se indica a continuación:\n",
    "\n",
    "<pre><code> if a == 3:\n",
    "    print(a)\n",
    "elif a > 3 :\n",
    "    print('La variable es mayor a 3')\n",
    "</code></pre>\n",
    "\n",
    "Esta estructura se puede hacer más robusta incluyendo la sentencia `else`, que indica que, en caso de no cumplirse ninguna condición de las anteriores condicionales dentro de `if` o `elif`, se ejecute lo que indica la sentencia `else`. La identación, en este caso, también debe mantenerse:\n",
    "\n",
    "<pre><code> if a == 3:\n",
    "    print(a)\n",
    "elif a > 3 :\n",
    "    print('La variable es mayor a 3')\n",
    "else:\n",
    "    print('La variable es menor a 3')\n",
    "</code></pre>\n",
    "\n",
    "Veamos algunos ejemplos\n"
   ]
  },
  {
   "cell_type": "code",
   "execution_count": 31,
   "metadata": {},
   "outputs": [
    {
     "name": "stdout",
     "output_type": "stream",
     "text": [
      "La variable es igual a 4\n"
     ]
    }
   ],
   "source": [
    "## Uso de elif\n",
    "\n",
    "a = 4\n",
    "\n",
    "if a > 4:\n",
    "    print('La variable es mayor a 4')\n",
    "elif a == 4:\n",
    "    print('La variable es igual a 4')"
   ]
  },
  {
   "cell_type": "markdown",
   "metadata": {},
   "source": [
    "Si solamente se tiene una condición dentro de `if`, se puede representar todo en una sola línea. Veamos un ejemplo"
   ]
  },
  {
   "cell_type": "code",
   "execution_count": 34,
   "metadata": {},
   "outputs": [
    {
     "name": "stdout",
     "output_type": "stream",
     "text": [
      "La variable es 3\n"
     ]
    }
   ],
   "source": [
    "a = 3\n",
    "if a == 3: print('La variable es 3') "
   ]
  },
  {
   "cell_type": "markdown",
   "metadata": {},
   "source": [
    "También se puede incluir la claúsula `else` en caso solamente haya una condición de manera que todo esté en una sola línea"
   ]
  },
  {
   "cell_type": "code",
   "execution_count": 35,
   "metadata": {},
   "outputs": [
    {
     "name": "stdout",
     "output_type": "stream",
     "text": [
      "La variable no es 3\n"
     ]
    }
   ],
   "source": [
    "a = 4\n",
    "print('La variable es 3') if a == 3 else print('La variable no es 3')"
   ]
  },
  {
   "cell_type": "code",
   "execution_count": 32,
   "metadata": {},
   "outputs": [
    {
     "name": "stdout",
     "output_type": "stream",
     "text": [
      "La primera variable es menor a la segunda\n"
     ]
    }
   ],
   "source": [
    "## Uso de elif y else\n",
    "\n",
    "a = 4 \n",
    "b = 5\n",
    "\n",
    "if a == b:\n",
    "    print('Las variables son iguales')\n",
    "elif a > b:\n",
    "    print('La primera variable es mayor a la segunda')\n",
    "else:\n",
    "    print('La primera variable es menor a la segunda')"
   ]
  },
  {
   "cell_type": "markdown",
   "metadata": {},
   "source": [
    "Si se quieren indicar varias condiciones y se quiere validar que se cumplan todas, se tiene que utilizar el operador ``and``. Si se quiere validar solamente que se cumpla alguna de ellas, se utiliza el operador `or`"
   ]
  },
  {
   "cell_type": "code",
   "execution_count": 36,
   "metadata": {},
   "outputs": [
    {
     "name": "stdout",
     "output_type": "stream",
     "text": [
      "Los tres números son iguales\n"
     ]
    }
   ],
   "source": [
    "## Condicionales con and\n",
    "\n",
    "a = 4\n",
    "b = 4\n",
    "c = 4\n",
    "\n",
    "if a == b and b == c and a == c:\n",
    "    print('Los tres números son iguales')"
   ]
  },
  {
   "cell_type": "code",
   "execution_count": 37,
   "metadata": {},
   "outputs": [
    {
     "name": "stdout",
     "output_type": "stream",
     "text": [
      "Al menos una condición se cumple\n"
     ]
    }
   ],
   "source": [
    "## Condicionales con or+\n",
    "\n",
    "a = 100\n",
    "b = 50\n",
    "c = 25\n",
    " \n",
    "if a > b or c > b:\n",
    "    print('Al menos una condición se cumple')"
   ]
  },
  {
   "cell_type": "markdown",
   "metadata": {},
   "source": [
    "Dentro de la sentencia `if`, también se pueden tener otras sentencias `if` de manera que se tengan `if` anidados. En este caso, la identación se tiene que respetar. A continuación se presenta la estructura:\n",
    "\n",
    "<pre><code> \n",
    "if a > 3:\n",
    "    print('El valor es mayor a 3')\n",
    "    if a > 5 :\n",
    "        print('El valor es mayor a 5')\n",
    "    else:\n",
    "        print('El valor no es mayor a 5')\n",
    "</code></pre>"
   ]
  },
  {
   "cell_type": "code",
   "execution_count": 39,
   "metadata": {},
   "outputs": [
    {
     "name": "stdout",
     "output_type": "stream",
     "text": [
      "El valor es mayor a 10\n",
      "El valor también es mayor a 100\n"
     ]
    }
   ],
   "source": [
    "## if anidados\n",
    "\n",
    "a = 110\n",
    "\n",
    "if a > 10:\n",
    "    print('El valor es mayor a 10')\n",
    "    if a > 100:\n",
    "        print('El valor también es mayor a 100')\n",
    "    else:\n",
    "        print('El valor no es mayor a 100')"
   ]
  },
  {
   "cell_type": "markdown",
   "metadata": {},
   "source": [
    "Las sentencias `if` no pueden estar vacías; sin embargo, si se desea tener una sentencia `if` sin contenido, se deberá utilizar la sentencia `pass`"
   ]
  },
  {
   "cell_type": "code",
   "execution_count": 40,
   "metadata": {},
   "outputs": [],
   "source": [
    "if 10 >= 10:\n",
    "    pass"
   ]
  },
  {
   "cell_type": "markdown",
   "metadata": {},
   "source": [
    "#### Ciclo For\n",
    "\n",
    "Esta estructura es conocida por ser un ciclo iterativo que se ejecuta sobre una secuencia. Permite ejecutar líneas de código mientras se itera por diversos elementos, que pueden ser listas, tuplas, disccionarios, cadenas, entre otros. El ciclo se termina cuando se realizan todas las iteraciones, cuando se cumple alguna condición establecida o cuando se encuentra el comando `break`.\n",
    "\n",
    "Un punto fundamental al momento de programar en Python es mantener la correcta identación. En ese sentido, todos los comandos a ejecutarse en el ciclo `for` deben estar correctamente identados. A continuación, un ejemplo:\n",
    "\n",
    "<pre><code> for i in 'python':\n",
    "    print(a)\n",
    "</code></pre>\n",
    "\n",
    "¡Practiquemos!"
   ]
  },
  {
   "cell_type": "code",
   "execution_count": 3,
   "metadata": {},
   "outputs": [
    {
     "name": "stdout",
     "output_type": "stream",
     "text": [
      "p\n",
      "y\n",
      "t\n",
      "h\n",
      "o\n",
      "n\n"
     ]
    }
   ],
   "source": [
    "## Ciclo con una cadena\n",
    "\n",
    "cadena = 'python'\n",
    "\n",
    "for i in cadena:\n",
    "    print(i)\n"
   ]
  },
  {
   "cell_type": "markdown",
   "metadata": {},
   "source": [
    "También se puede iterar sobre estructuras de datos como listas, tuplas o diccionarios"
   ]
  },
  {
   "cell_type": "code",
   "execution_count": 5,
   "metadata": {},
   "outputs": [
    {
     "name": "stdout",
     "output_type": "stream",
     "text": [
      "1\n",
      "2\n",
      "3\n",
      "4\n",
      "a\n",
      "b\n",
      "c\n"
     ]
    }
   ],
   "source": [
    "lista = [1,2,3,4,'a','b','c']\n",
    "\n",
    "for a in lista:\n",
    "    print(a)"
   ]
  },
  {
   "cell_type": "code",
   "execution_count": 6,
   "metadata": {},
   "outputs": [
    {
     "name": "stdout",
     "output_type": "stream",
     "text": [
      "10\n",
      "15\n",
      "20\n"
     ]
    }
   ],
   "source": [
    "tupla = (10,15,20)\n",
    "\n",
    "for elemento in tupla:\n",
    "    print(elemento)"
   ]
  },
  {
   "cell_type": "code",
   "execution_count": 9,
   "metadata": {},
   "outputs": [
    {
     "name": "stdout",
     "output_type": "stream",
     "text": [
      "primero\n",
      "segundo\n",
      "tercero\n",
      "1\n",
      "2\n",
      "3\n"
     ]
    }
   ],
   "source": [
    "diccionario = {'primero':1,'segundo':2,'tercero':3}\n",
    "\n",
    "for i in diccionario.keys():\n",
    "    print(i)\n",
    "\n",
    "for a in diccionario.values():\n",
    "    print(a)"
   ]
  },
  {
   "cell_type": "markdown",
   "metadata": {},
   "source": [
    "También se pueden hacer operaciones o se pueden ejecutar piezas de código en cada iteración. "
   ]
  },
  {
   "cell_type": "code",
   "execution_count": 10,
   "metadata": {},
   "outputs": [
    {
     "data": {
      "text/plain": [
       "[4, 16, 36, 64, 100]"
      ]
     },
     "execution_count": 10,
     "metadata": {},
     "output_type": "execute_result"
    }
   ],
   "source": [
    "## Pasaremos los valores de una lista, los elevaremos al cuadrado y los insertaremos en otra lista vacía\n",
    "\n",
    "lista = []\n",
    "valores = [2,4,6,8,10]\n",
    "\n",
    "for i in valores:\n",
    "    valor = i**2\n",
    "    lista.append(valor)\n",
    "\n",
    "lista"
   ]
  },
  {
   "cell_type": "code",
   "execution_count": 15,
   "metadata": {},
   "outputs": [
    {
     "data": {
      "text/plain": [
       "[1, 2, 3, 4, 5, 6, 7, 8, 9, 10, 11]"
      ]
     },
     "execution_count": 15,
     "metadata": {},
     "output_type": "execute_result"
    }
   ],
   "source": [
    "## Uniremos varias listas en una sola\n",
    "\n",
    "lista_uno = [1,2,3,4]\n",
    "lista_dos = [5,6,7,8]\n",
    "lista_tres = [9,10,11]\n",
    "lista_listas = [lista_uno,lista_dos,lista_tres]\n",
    "lista_final = []\n",
    "\n",
    "for i in lista_listas:\n",
    "    lista_final.extend(i)\n",
    "\n",
    "lista_final"
   ]
  },
  {
   "cell_type": "markdown",
   "metadata": {},
   "source": [
    "Dentro del ciclo también se puede utilizar la sentencia `range`, que indica un rango de valores. El rango, si no se indica, inicia en 0. Por defecto, el crecimiento en el rango es de un valor, sin embargo, también se puede indicar el valor incremental. Veamos algunos ejemplos"
   ]
  },
  {
   "cell_type": "code",
   "execution_count": 16,
   "metadata": {},
   "outputs": [
    {
     "name": "stdout",
     "output_type": "stream",
     "text": [
      "0\n",
      "1\n",
      "2\n",
      "3\n",
      "4\n",
      "5\n"
     ]
    }
   ],
   "source": [
    "## Uso de range\n",
    "\n",
    "for i in range(6):\n",
    "    print(i)"
   ]
  },
  {
   "cell_type": "code",
   "execution_count": 17,
   "metadata": {},
   "outputs": [
    {
     "name": "stdout",
     "output_type": "stream",
     "text": [
      "4\n",
      "5\n"
     ]
    }
   ],
   "source": [
    "## Indicar range con inicio y fin\n",
    "\n",
    "for i in range(4,6):\n",
    "    print(i)"
   ]
  },
  {
   "cell_type": "code",
   "execution_count": 18,
   "metadata": {},
   "outputs": [
    {
     "name": "stdout",
     "output_type": "stream",
     "text": [
      "1\n",
      "3\n",
      "5\n",
      "7\n"
     ]
    }
   ],
   "source": [
    "## Indicar el valor incremental\n",
    "\n",
    "for i in range(1,9,2):\n",
    "    print(i)"
   ]
  },
  {
   "cell_type": "markdown",
   "metadata": {},
   "source": [
    "Se puede utilizar la sentencia `else` para ejecutar código cuando el ciclo termine. Esto es útil para identificar cuándo ha terminado un ciclo"
   ]
  },
  {
   "cell_type": "code",
   "execution_count": 19,
   "metadata": {},
   "outputs": [
    {
     "name": "stdout",
     "output_type": "stream",
     "text": [
      "0\n",
      "3\n",
      "6\n",
      "9\n",
      "El ciclo ha terminado\n"
     ]
    }
   ],
   "source": [
    "## Uso de else\n",
    "\n",
    "for i in range(0,10,3):\n",
    "    print(i)\n",
    "else:\n",
    "    print('El ciclo ha terminado')"
   ]
  },
  {
   "cell_type": "markdown",
   "metadata": {},
   "source": [
    "También se pueden utilizar ciclos `for` anidados. En este caso, la identación también se debe respetar. A continuación, un ejemplo:\n",
    "\n",
    "<pre><code> for i in 'hola':\n",
    "    for a in 'mundo':\n",
    "        print(i,a)        \n",
    "</code></pre>\n"
   ]
  },
  {
   "cell_type": "code",
   "execution_count": 20,
   "metadata": {},
   "outputs": [
    {
     "name": "stdout",
     "output_type": "stream",
     "text": [
      "1 a\n",
      "1 b\n",
      "1 c\n",
      "2 a\n",
      "2 b\n",
      "2 c\n",
      "3 a\n",
      "3 b\n",
      "3 c\n"
     ]
    }
   ],
   "source": [
    "## Ejemplo de ciclo anidado\n",
    "\n",
    "lista_uno = [1,2,3]\n",
    "lista_dos = ['a','b','c']\n",
    "\n",
    "for i in lista_uno:\n",
    "    for a in lista_dos:\n",
    "        print(i,a)"
   ]
  },
  {
   "cell_type": "markdown",
   "metadata": {},
   "source": [
    "Un ciclo `for` no puede estar vacío, es decir, siempre tiene que tener asociada una línea de código; sin embargo, si se desea que el ciclo no haga nada, se debe colocar la sentencia `pass`"
   ]
  },
  {
   "cell_type": "code",
   "execution_count": 23,
   "metadata": {},
   "outputs": [],
   "source": [
    "lista_uno = [1,2,3,4]\n",
    "\n",
    "for i in lista_uno:\n",
    "    pass"
   ]
  },
  {
   "cell_type": "markdown",
   "metadata": {},
   "source": [
    "Se pueden romper el ciclo con la sentencia `break`"
   ]
  },
  {
   "cell_type": "code",
   "execution_count": 44,
   "metadata": {},
   "outputs": [
    {
     "name": "stdout",
     "output_type": "stream",
     "text": [
      "1\n",
      "2\n",
      "3\n"
     ]
    }
   ],
   "source": [
    "lista = [1,2,3,4,5]\n",
    "\n",
    "for i in lista:\n",
    "    print(i)\n",
    "    if i > 2:\n",
    "        break"
   ]
  },
  {
   "cell_type": "markdown",
   "metadata": {},
   "source": [
    "#### While\n",
    "\n",
    "El ciclo `while` permite ejecutar determinadas acciones hasta que se cumpla una condición pre-establecida. Con `while` también se debe respetar la identación:\n",
    "\n",
    "<pre><code> while CONDICION:\n",
    "    print(i,a)        \n",
    "</code></pre>\n",
    "\n",
    "Veamos un ejemplo:\n"
   ]
  },
  {
   "cell_type": "code",
   "execution_count": 25,
   "metadata": {},
   "outputs": [
    {
     "name": "stdout",
     "output_type": "stream",
     "text": [
      "0\n",
      "1\n",
      "2\n",
      "3\n"
     ]
    }
   ],
   "source": [
    "## Ciclo while\n",
    "a = 0\n",
    "while a <= 3:\n",
    "    print(a)\n",
    "    a = a + 1"
   ]
  },
  {
   "cell_type": "markdown",
   "metadata": {},
   "source": [
    "Para romper ciclos `while` también se puede utilizar la sentencia `break`"
   ]
  },
  {
   "cell_type": "code",
   "execution_count": 26,
   "metadata": {},
   "outputs": [
    {
     "name": "stdout",
     "output_type": "stream",
     "text": [
      "1\n"
     ]
    }
   ],
   "source": [
    "## Ciclo while que se cortó por la sentencia break\n",
    "\n",
    "while True:\n",
    "    print(1)\n",
    "    break"
   ]
  },
  {
   "cell_type": "markdown",
   "metadata": {},
   "source": [
    "El ciclo `while` también se puede utilizar con la sentencia `else` para proponer resultados alternativos en caso no se cumpla la condición"
   ]
  },
  {
   "cell_type": "code",
   "execution_count": 27,
   "metadata": {},
   "outputs": [
    {
     "name": "stdout",
     "output_type": "stream",
     "text": [
      "La variable es menor a 5\n"
     ]
    }
   ],
   "source": [
    "a = 4\n",
    "while a >= 5:\n",
    "    print('La variable es mayor o igual a 5')\n",
    "else:\n",
    "    print('La variable es menor a 5')"
   ]
  },
  {
   "cell_type": "markdown",
   "metadata": {},
   "source": [
    "Para romper una iteración y continuar con otra, se utiliza la sentencia `continue`"
   ]
  },
  {
   "cell_type": "code",
   "execution_count": 45,
   "metadata": {},
   "outputs": [
    {
     "name": "stdout",
     "output_type": "stream",
     "text": [
      "5\n",
      "6\n",
      "8\n",
      "9\n",
      "10\n"
     ]
    }
   ],
   "source": [
    "a = 4\n",
    "while a < 10:\n",
    "    a = a + 1\n",
    "    if a == 7:\n",
    "        continue\n",
    "    print(a)"
   ]
  },
  {
   "cell_type": "markdown",
   "metadata": {},
   "source": [
    "Para romper el ciclo, se utiliza la sentencia `break`"
   ]
  },
  {
   "cell_type": "code",
   "execution_count": 47,
   "metadata": {},
   "outputs": [
    {
     "name": "stdout",
     "output_type": "stream",
     "text": [
      "4\n",
      "5\n",
      "6\n"
     ]
    }
   ],
   "source": [
    "a = 4 \n",
    "while a < 10:\n",
    "    print(a)\n",
    "    a = a + 1\n",
    "    if a == 7:\n",
    "        break"
   ]
  },
  {
   "cell_type": "markdown",
   "metadata": {},
   "source": [
    "Estas estructuras de control también pueden usarse combinadas, lo que hace que sean más poderosas. Veremos más ejemplos combinados en un siguiente notebook"
   ]
  }
 ],
 "metadata": {
  "interpreter": {
   "hash": "a1c127b98b004ffb10bdf623089e5daada6124a81f5a9b9e6b62024169afff23"
  },
  "kernelspec": {
   "display_name": "Python 3.10.4 64-bit (system)",
   "language": "python",
   "name": "python3"
  },
  "language_info": {
   "codemirror_mode": {
    "name": "ipython",
    "version": 3
   },
   "file_extension": ".py",
   "mimetype": "text/x-python",
   "name": "python",
   "nbconvert_exporter": "python",
   "pygments_lexer": "ipython3",
   "version": "3.10.4"
  },
  "orig_nbformat": 4
 },
 "nbformat": 4,
 "nbformat_minor": 2
}
