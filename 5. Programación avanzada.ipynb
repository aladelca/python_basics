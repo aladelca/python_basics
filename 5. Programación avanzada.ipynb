{
 "cells": [
  {
   "cell_type": "markdown",
   "metadata": {},
   "source": [
    "![](https://user-images.githubusercontent.com/83436724/166116197-cbe1a8bc-e1df-4cac-ad5e-9f6cd9f0f43c.png)"
   ]
  },
  {
   "cell_type": "markdown",
   "metadata": {},
   "source": [
    "## Python: Programación avanzada\n",
    "#### Combinar estructuras de control y estructuras de datos\n",
    "#### Autor: [Carlos Adrián Alarcón](https://linktr.ee/aladelca)\n",
    "\n",
    "En este notebook, aprenderemos a generar algunos algoritmos y programas simples para que realicen determinadas tareas. Para esto, haremos uso de estructuras de control, estructuras de datos, entre otras. Asimismo, utilizaremos los diversos comandos como ```try ... except```, ```input```, entre otros.\n",
    "\n",
    "Algo importante, al momento de combinar diversas estructuras de control y de datos, que prestemos atención a la identación. Esta se tiene que respetar siempre a lo largo del código.\n",
    "\n",
    "Vamos a ver algunos ejemplos:\n"
   ]
  },
  {
   "cell_type": "markdown",
   "metadata": {},
   "source": [
    "#### Interacción con listas\n",
    "\n",
    "Para el siguiente ejercicio, se tiene que generar un programa que elimine el tercer registro de una lista. Esto debe continuar hasta que la lista esté vacía. Cuando hayan menos de tres elementos, se deberá eliminar siempre el último elemento.\n",
    "\n",
    "Tip: para eliminar elementos de una lista, debes usar el comando ``remove()``"
   ]
  },
  {
   "cell_type": "code",
   "execution_count": 36,
   "metadata": {},
   "outputs": [
    {
     "name": "stdout",
     "output_type": "stream",
     "text": [
      "[10, 20, 40, 50, 60, 70, 80, 90, 100]\n",
      "[10, 20, 50, 60, 70, 80, 90, 100]\n",
      "[10, 20, 60, 70, 80, 90, 100]\n",
      "[10, 20, 70, 80, 90, 100]\n",
      "[10, 20, 80, 90, 100]\n",
      "[10, 20, 90, 100]\n",
      "[10, 20, 100]\n",
      "[10, 20]\n",
      "[10]\n",
      "[]\n"
     ]
    }
   ],
   "source": [
    "## Eliminar dígito de una lista\n",
    "\n",
    "lista = [10,20,30,40,50,60,70,80,90,100]\n",
    "n = 1\n",
    "while len(lista)> 0:\n",
    "    \n",
    "    if len(lista) >= 3:\n",
    "        elemento_a_eliminar = lista[2]\n",
    "        lista.remove(elemento_a_eliminar)\n",
    "        print(lista)\n",
    "    elif len(lista) < 3 and len(lista)>=0:\n",
    "        elemento_a_eliminar = lista[n]\n",
    "        lista.remove(elemento_a_eliminar)\n",
    "        n = n - 1\n",
    "        print(lista)\n",
    "       \n",
    "        "
   ]
  },
  {
   "cell_type": "markdown",
   "metadata": {},
   "source": [
    "#### Permutaciones\n",
    "\n",
    "Las permutaciones permiten encontrar todos los ordenamientos posibles para algunos elementos que forman parte de un conjunto. La fórmula de las permutaciones es la siguiente (n es el número de elementos en total y r es el número de elementos escogidos):\n",
    "\n",
    "<p align=\"center\">\n",
    "  <img width=\"200\" src=\"https://user-images.githubusercontent.com/83436724/173146767-fa507887-6049-4856-b671-2dd5b43b7b1f.svg\" alt=\"Material Bread logo\">\n",
    "</p>\n",
    "\n",
    "¡Hagamos un programa que permita hacer permutaciones!"
   ]
  },
  {
   "cell_type": "code",
   "execution_count": 49,
   "metadata": {},
   "outputs": [
    {
     "name": "stdout",
     "output_type": "stream",
     "text": [
      "7920.0\n"
     ]
    }
   ],
   "source": [
    "## Permutaciones\n",
    "\n",
    "conjunto_datos = [10,30,4,5,6,7,4,8,4,19,80]\n",
    "total = len(conjunto_datos)\n",
    "elementos = 4\n",
    "\n",
    "total_numerador = 1\n",
    "total_denominador = 1\n",
    "for i in range(0,total):\n",
    "    numero = i + 1\n",
    "    total_numerador = total_numerador * numero\n",
    "for a in range(0,total-elementos):\n",
    "    numero_d = a + 1\n",
    "    total_denominador = total_denominador * numero_d\n",
    "\n",
    "resultado = total_numerador/total_denominador\n",
    "print(resultado)"
   ]
  },
  {
   "cell_type": "markdown",
   "metadata": {},
   "source": [
    "#### Combinatorias\n",
    "\n",
    "Las combinatorias funcionan de manera similar a las permutaciones, sin embargo, para este proceso, es necesario eliminar aquellos duplicados. Es decir, en las combinatorias, el órden de las agrupaciones no es relevante. La fórmula de las combinatorias es la siguiente:\n",
    "\n",
    "<p align=\"center\">\n",
    "  <img width=\"200\" src=\"https://user-images.githubusercontent.com/83436724/173152923-50408dc0-c216-4b31-bc82-cd565cdcec02.svg\" alt=\"Material Bread logo\">\n",
    "</p>\n",
    "\n",
    "¡Hagamos un programa que permita hacer combinatorias!\n",
    "\n",
    "\n"
   ]
  },
  {
   "cell_type": "code",
   "execution_count": 8,
   "metadata": {},
   "outputs": [
    {
     "name": "stdout",
     "output_type": "stream",
     "text": [
      "15.0\n"
     ]
    }
   ],
   "source": [
    "## Combinatorias\n",
    "\n",
    "conjunto_datos = [10,40,50,20,60,90]\n",
    "total = len(conjunto_datos)\n",
    "elementos = 4\n",
    "\n",
    "total_numerador = 1\n",
    "total_denominador_uno = 1\n",
    "total_denominador_dos = 1\n",
    "\n",
    "for i in range(0,total):\n",
    "    numero = i + 1\n",
    "    total_numerador = total_numerador * numero\n",
    "for a in range(0,total-elementos):\n",
    "    numero_d = a + 1\n",
    "    total_denominador_uno = total_denominador_uno * numero_d\n",
    "for b in range(0,elementos):\n",
    "    numero_a = b + 1\n",
    "    total_denominador_dos = total_denominador_dos * numero_a\n",
    "\n",
    "resultado = total_numerador/(total_denominador_uno * total_denominador_dos)\n",
    "print(resultado)"
   ]
  },
  {
   "cell_type": "markdown",
   "metadata": {},
   "source": [
    "#### Hallar el número de palabras en un texto\n",
    "\n",
    "En este ejercicio, recibiremos un texto y tendremos que separar todas las palabras en elementos de lista y, además, contar las palabras. A continuación, se muestra el siguiente ejemplo:\n",
    "\n",
    "```este es un ejemplo``` deberá convertirse en ```['este', 'es', 'un', 'ejemplo']```"
   ]
  },
  {
   "cell_type": "code",
   "execution_count": 12,
   "metadata": {},
   "outputs": [],
   "source": [
    "# Analizar texto\n",
    "\n",
    "texto =  '''United States Declaration of Independence\n",
    "From Wikipedia, the free encyclopedia\n",
    "The United States Declaration of Independence is the statement\n",
    "adopted by the Second Continental Congress meeting at the Pennsylvania State\n",
    "House (Independence Hall) in Philadelphia on July 4, 1776, which announced\n",
    "that the thirteen American colonies, then at war with the Kingdom of Great\n",
    "Britain, regarded themselves as thirteen independent sovereign states, no longer\n",
    "under British rule. These states would found a new nation – the United States of\n",
    "America. John Adams was a leader in pushing for independence, which was passed\n",
    "on July 2 with no opposing vote cast. A committee of five had already drafted the\n",
    "formal declaration, to be ready when Congress voted on independence.\n",
    "\n",
    "John Adams persuaded the committee to select Thomas Jefferson to compose the original\n",
    "draft of the document, which Congress would edit to produce the final version.\n",
    "The Declaration was ultimately a formal explanation of why Congress had voted on July\n",
    "2 to declare independence from Great Britain, more than a year after the outbreak of\n",
    "the American Revolutionary War. The next day, Adams wrote to his wife Abigail: \"The\n",
    "Second Day of July 1776, will be the most memorable Epocha, in the History of America.\"\n",
    "But Independence Day is actually celebrated on July 4, the date that the Declaration of\n",
    "Independence was approved.\n",
    "\n",
    "After ratifying the text on July 4, Congress issued the Declaration of Independence in\n",
    "several forms. It was initially published as the printed Dunlap broadside that was widely\n",
    "distributed and read to the public. The source copy used for this printing has been lost,\n",
    "and may have been a copy in Thomas Jefferson's hand.[5] Jefferson's original draft, complete\n",
    "with changes made by John Adams and Benjamin Franklin, and Jefferson's notes of changes made\n",
    "by Congress, are preserved at the Library of Congress. The best-known version of the Declaration\n",
    "is a signed copy that is displayed at the National Archives in Washington, D.C., and which is\n",
    "popularly regarded as the official document. This engrossed copy was ordered by Congress on\n",
    "July 19 and signed primarily on August 2.\n",
    "\n",
    "The sources and interpretation of the Declaration have been the subject of much scholarly inquiry.\n",
    "The Declaration justified the independence of the United States by listing colonial grievances against\n",
    "King George III, and by asserting certain natural and legal rights, including a right of revolution.\n",
    "Having served its original purpose in announcing independence, references to the text of the\n",
    "Declaration were few in the following years. Abraham Lincoln made it the centerpiece of his rhetoric\n",
    "(as in the Gettysburg Address of 1863) and his policies. Since then, it has become a well-known statement\n",
    "on human rights, particularly its second sentence:\n",
    "\n",
    "We hold these truths to be self-evident, that all men are created equal, that they are endowed by their\n",
    "Creator with certain unalienable Rights, that among these are Life, Liberty and the pursuit of Happiness.\n",
    "\n",
    "This has been called \"one of the best-known sentences in the English language\", containing \"the most potent\n",
    "and consequential words in American history\". The passage came to represent a moral standard to which\n",
    "the United States should strive. This view was notably promoted by Abraham Lincoln, who considered the\n",
    "Declaration to be the foundation of his political philosophy and argued that it is a statement of principles\n",
    "through which the United States Constitution should be interpreted.\n",
    "\n",
    "The U.S. Declaration of Independence inspired many other similar documents in other countries, the first\n",
    "being the 1789 Declaration of Flanders issued during the Brabant Revolution in the Austrian Netherlands\n",
    "(modern-day Belgium). It also served as the primary model for numerous declarations of independence across\n",
    "Europe and Latin America, as well as Africa (Liberia) and Oceania (New Zealand) during the first half of the\n",
    "19th century.'''\n",
    "\n",
    "lista_palabras = texto.split()\n",
    "frecuencia = [lista_palabras.count(n) for n in lista_palabras]\n"
   ]
  },
  {
   "cell_type": "markdown",
   "metadata": {},
   "source": [
    "#### Eliminar duplicados de una lista\n",
    "\n",
    "En este ejercicio, lo que se va a realizar es identificar los valores únicos en una lista. \n",
    "\n",
    "```lista_general = [1,2,2,2,3,3,4,5,5,6]```\n",
    "\n",
    "Resultado:\n",
    "\n",
    "```\n",
    "unicos = [1,2,3,4,5,6]\n",
    "\n",
    "```\n"
   ]
  },
  {
   "cell_type": "code",
   "execution_count": 40,
   "metadata": {},
   "outputs": [
    {
     "data": {
      "text/plain": [
       "[1, 2, 3, 4, 5, 6]"
      ]
     },
     "execution_count": 40,
     "metadata": {},
     "output_type": "execute_result"
    }
   ],
   "source": [
    "# Eliminar duplicados\n",
    "\n",
    "lista_general = [1,2,2,2,3,3,4,5,5,6]\n",
    "\n",
    "unicos = []    \n",
    "    \n",
    "for x in lista_general:\n",
    "        \n",
    "    if x not in unicos:\n",
    "        unicos.append(x)\n",
    "\n",
    "unicos\n"
   ]
  }
 ],
 "metadata": {
  "interpreter": {
   "hash": "a1c127b98b004ffb10bdf623089e5daada6124a81f5a9b9e6b62024169afff23"
  },
  "kernelspec": {
   "display_name": "Python 3.10.4 64-bit (system)",
   "language": "python",
   "name": "python3"
  },
  "language_info": {
   "codemirror_mode": {
    "name": "ipython",
    "version": 3
   },
   "file_extension": ".py",
   "mimetype": "text/x-python",
   "name": "python",
   "nbconvert_exporter": "python",
   "pygments_lexer": "ipython3",
   "version": "3.10.4"
  },
  "orig_nbformat": 4
 },
 "nbformat": 4,
 "nbformat_minor": 2
}
