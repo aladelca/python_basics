{
 "cells": [
  {
   "cell_type": "markdown",
   "metadata": {},
   "source": [
    "\n",
    "![](https://user-images.githubusercontent.com/83436724/166116197-cbe1a8bc-e1df-4cac-ad5e-9f6cd9f0f43c.png)\n",
    "\n"
   ]
  },
  {
   "cell_type": "markdown",
   "metadata": {},
   "source": [
    "## Python Basics\n",
    "\n",
    "#### Principales conceptos de Python\n",
    "#### Autor: Carlos Adrián Alarcón [LinkedIn](https://www.linkedin.com/in/carlos-adrian-alarcon-delgado/)\n",
    "\n",
    "En este notebook, aprenderemos los principales conceptos de Python. Este es el primer paso del camino para aprender Python orientado a análisis de datos. \n",
    "\n",
    "Como concepto incial, este tipo de archivo se llama Notebook de Python. Lo vas a reconocer porque tiene la extensión `.ipynb`. Esta clase de archivos son bastante útiles debido a que permiten documentar proyectos enteros de Analytics con textos como estos y con celdas de código de Python. \n",
    "\n",
    "Esta clase de archivos se pueden crear haciendo uso de varios distribuidores como [Google Colab](https://colab.research.google.com/) o [Jupyter Notebooks](https://jupyter.org/), entre otros.\n",
    "\n",
    "Para generar este texto, se utiliza un tipo de lenguaje que se llama **Markdown**. Pueden encontrar más documentación [aquí](https://www.markdownguide.org/basic-syntax/).\n",
    "\n",
    "Ahora pasaremos a entender un poco los conceptos de Python. Lo primero que aprenderemos serán los tipos de datos. Principalmente, y solo como introducción, presentaremos los siguientes tipos de datos\n",
    "\n",
    "* `str`: string o cadena de texto\n",
    "* `int`: números enteros\n",
    "* `float`: números flotantes o decimales\n",
    "* `boolean`: valores que indican verdad o falsedad (True vs. False)\n",
    "\n",
    "De la misma manera, aprenderemos algunos de los principales comandos:\n",
    "\n",
    "* `print`: imprimir valores en pantalla\n",
    "* `type`: mostrar el tipo de dato\n",
    "\n",
    "¡Comencemos a practicar!"
   ]
  },
  {
   "cell_type": "code",
   "execution_count": 2,
   "metadata": {},
   "outputs": [
    {
     "name": "stdout",
     "output_type": "stream",
     "text": [
      "Hola mundo\n",
      "<class 'str'>\n",
      "<class 'int'>\n",
      "<class 'float'>\n"
     ]
    }
   ],
   "source": [
    "# Este es un comentario\n",
    "\n",
    "# Imprimiremos en pantalla un valor\n",
    "print('Hola mundo')\n",
    "\n",
    "#Veremos cómo reconocer los tipos de datos\n",
    "print(type('Hola mundo'))\n",
    "print(type(2))\n",
    "print(type(1.5))"
   ]
  },
  {
   "cell_type": "markdown",
   "metadata": {},
   "source": [
    "Los textos tienen un tratamiento especial en Python. Se tienen que declarar entre comillas simples, comillas dobles o comillas triples. Veamos algunos ejemplos. La principal diferencia es si es que en el texto tenemos comillas simples o dobles que queremos considerar como parte del texto."
   ]
  },
  {
   "cell_type": "code",
   "execution_count": 4,
   "metadata": {},
   "outputs": [
    {
     "name": "stdout",
     "output_type": "stream",
     "text": [
      "Este es un texto\n",
      "Este es un 'texto'\n",
      "Este es un \"texto\"\n"
     ]
    }
   ],
   "source": [
    "print('Este es un texto')\n",
    "print(\"Este es un 'texto'\")\n",
    "print('''Este es un \"texto\"''')"
   ]
  },
  {
   "cell_type": "markdown",
   "metadata": {},
   "source": [
    "Para determinar cuántos caracteres hay en una cadena de texto, utilizaremos el comando `len`"
   ]
  },
  {
   "cell_type": "code",
   "execution_count": 5,
   "metadata": {},
   "outputs": [
    {
     "name": "stdout",
     "output_type": "stream",
     "text": [
      "10\n"
     ]
    }
   ],
   "source": [
    "print(len('Hola mundo'))"
   ]
  },
  {
   "cell_type": "markdown",
   "metadata": {},
   "source": [
    "Si quisieramos concatenar textos, una forma de hacerlo es usando el operador `+`"
   ]
  },
  {
   "cell_type": "code",
   "execution_count": 7,
   "metadata": {},
   "outputs": [
    {
     "name": "stdout",
     "output_type": "stream",
     "text": [
      "Hola mundo\n",
      "Hola mundo\n"
     ]
    }
   ],
   "source": [
    "print('Hola' + ' mundo')\n",
    "\n",
    "## Esta es otra forma\n",
    "print('Hola','mundo')\n",
    "\n",
    "## Nota que la diferencia es el espacio que se genera entre ambas cadenas"
   ]
  },
  {
   "cell_type": "markdown",
   "metadata": {},
   "source": [
    "Podemos convertir un texto a minúsculas o mayúsculas con los siguientes comandos:\n",
    "* `.lower()`\n",
    "* `.upper()`\n"
   ]
  },
  {
   "cell_type": "code",
   "execution_count": 11,
   "metadata": {},
   "outputs": [
    {
     "name": "stdout",
     "output_type": "stream",
     "text": [
      "hola mundo\n",
      "HOLA MUNDO\n"
     ]
    }
   ],
   "source": [
    "print('HOLA Mundo'.lower())\n",
    "print('hola Mundo'.upper())"
   ]
  },
  {
   "cell_type": "markdown",
   "metadata": {},
   "source": [
    "Para imprimir cadenas con salto de línea se utiliza el comando `\\n`"
   ]
  },
  {
   "cell_type": "code",
   "execution_count": 14,
   "metadata": {},
   "outputs": [
    {
     "name": "stdout",
     "output_type": "stream",
     "text": [
      "Hola\n",
      "mundo\n"
     ]
    }
   ],
   "source": [
    "print('Hola\\nmundo')"
   ]
  },
  {
   "cell_type": "markdown",
   "metadata": {},
   "source": [
    "Ahora aprenderemos un poco más acerca de los números. Con los tipos de datos `int`y `float`, al ser numéricos, se pueden realizar diversas operaciones. Los operadores disponibles son:\n",
    "\n",
    "* `+` : suma\n",
    "* `-` : resta\n",
    "* `*` : multiplicación\n",
    "* `/` : división\n",
    "* `%` : módulo o residuo\n",
    "* `**` : potencia\n",
    "* `//` : división con resultado entero"
   ]
  },
  {
   "cell_type": "code",
   "execution_count": 17,
   "metadata": {},
   "outputs": [
    {
     "name": "stdout",
     "output_type": "stream",
     "text": [
      "4\n",
      "1\n",
      "18\n",
      "1.5\n",
      "8\n",
      "1.0\n"
     ]
    }
   ],
   "source": [
    "print(2+2)\n",
    "print(5-4)\n",
    "print(6*3)\n",
    "print(4.5/3)\n",
    "print(2**3)\n",
    "print(4.5//3)"
   ]
  },
  {
   "cell_type": "markdown",
   "metadata": {},
   "source": [
    "Los valores decimales se pueden redondear haciendo uso del comando `round`"
   ]
  },
  {
   "cell_type": "code",
   "execution_count": 20,
   "metadata": {},
   "outputs": [
    {
     "name": "stdout",
     "output_type": "stream",
     "text": [
      "3.14\n",
      "3.1416\n"
     ]
    }
   ],
   "source": [
    "print(round(3.1416151762,2)) #Redondeo a 2 dígitos\n",
    "print(round(3.1416151762,4)) #Redondeo a 4 dígitos"
   ]
  },
  {
   "cell_type": "markdown",
   "metadata": {},
   "source": [
    "Para facilitar el uso de algunos valores, se pueden asignar variables con determinados valores. En Python no es necesario declarar variables, solamente basta con indicar el nombre de la variable y el valor que va a tomar. Recordemos que si una variable se repite varias veces, tendrá el último valor indicado. \n",
    "\n",
    "Veamos un ejemplo"
   ]
  },
  {
   "cell_type": "code",
   "execution_count": 21,
   "metadata": {},
   "outputs": [
    {
     "name": "stdout",
     "output_type": "stream",
     "text": [
      "60\n"
     ]
    }
   ],
   "source": [
    "a = 1\n",
    "b = 2\n",
    "c = 'Hola mundo'\n",
    "a = 60\n",
    "# ¿Qué valor tomará la variable a?\n",
    "print(a)"
   ]
  },
  {
   "cell_type": "markdown",
   "metadata": {},
   "source": [
    "Las variables sirven, entre otras cosas, para poder simplificar código"
   ]
  },
  {
   "cell_type": "code",
   "execution_count": 23,
   "metadata": {},
   "outputs": [
    {
     "name": "stdout",
     "output_type": "stream",
     "text": [
      "100\n",
      "Hola mundo\n"
     ]
    }
   ],
   "source": [
    "a = 10\n",
    "b = 2\n",
    "c = 10**2\n",
    "print(c)\n",
    "\n",
    "primera_cadena = 'Hola'\n",
    "segunda_cadena = 'mundo'\n",
    "print(primera_cadena,segunda_cadena)\n"
   ]
  },
  {
   "cell_type": "markdown",
   "metadata": {},
   "source": [
    "Finalmente, veremos el tipo de dato booleano. Esto sirve para determinar la verdad o falsedad de determinada expresión. Estas expresiones se denotan de la siguiente manera:\n",
    "\n",
    "* `<` : menor que \n",
    "* `>` : mayor que\n",
    "* `<=` : menor igual que\n",
    "* `>=` : mayor igual que\n",
    "* `==` : es igual que\n",
    "* `!=` : es diferente que\n"
   ]
  },
  {
   "cell_type": "code",
   "execution_count": 26,
   "metadata": {},
   "outputs": [
    {
     "name": "stdout",
     "output_type": "stream",
     "text": [
      "False\n",
      "True\n"
     ]
    }
   ],
   "source": [
    "print(2==3)\n",
    "print(2<=3)"
   ]
  },
  {
   "cell_type": "markdown",
   "metadata": {},
   "source": [
    "Una particularidad de los datos de tipo booleano es que se pueden realizar operaciones matemáticas con ellos. El valor `True` tiene como valor 1 y el valor `False` tiene como valor 0"
   ]
  },
  {
   "cell_type": "code",
   "execution_count": 29,
   "metadata": {},
   "outputs": [
    {
     "name": "stdout",
     "output_type": "stream",
     "text": [
      "2\n",
      "0\n"
     ]
    }
   ],
   "source": [
    "a = 2 == 2\n",
    "b = 3 == 3 \n",
    "print(a + b)\n",
    "\n",
    "c = 2 == 'Hola mundo'\n",
    "d = 2 <= -3\n",
    "print(c + d)"
   ]
  }
 ],
 "metadata": {
  "interpreter": {
   "hash": "10c0198ab85396e5477598fef9664ee89cb884c3fd72c80dd0dae60c7d3f5812"
  },
  "kernelspec": {
   "display_name": "Python 3.10.4 64-bit (system)",
   "language": "python",
   "name": "python3"
  },
  "language_info": {
   "codemirror_mode": {
    "name": "ipython",
    "version": 3
   },
   "file_extension": ".py",
   "mimetype": "text/x-python",
   "name": "python",
   "nbconvert_exporter": "python",
   "pygments_lexer": "ipython3",
   "version": "3.10.4"
  },
  "orig_nbformat": 4
 },
 "nbformat": 4,
 "nbformat_minor": 2
}
